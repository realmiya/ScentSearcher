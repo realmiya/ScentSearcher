{
 "cells": [
  {
   "cell_type": "code",
   "execution_count": 1,
   "metadata": {},
   "outputs": [],
   "source": [
    "import pandas as pd\n",
    "import numpy as np\n"
   ]
  },
  {
   "cell_type": "code",
   "execution_count": 4,
   "metadata": {},
   "outputs": [],
   "source": [
    "data = pd.read_csv('pp_pic_des_t64.csv',header = None, names = ['perfume_id','perfume_name','image64','description'])"
   ]
  },
  {
   "cell_type": "code",
   "execution_count": 5,
   "metadata": {},
   "outputs": [
    {
     "name": "stdout",
     "output_type": "stream",
     "text": [
      "<class 'pandas.core.frame.DataFrame'>\n",
      "RangeIndex: 51212 entries, 0 to 51211\n",
      "Data columns (total 4 columns):\n",
      " #   Column        Non-Null Count  Dtype \n",
      "---  ------        --------------  ----- \n",
      " 0   perfume_id    51212 non-null  int64 \n",
      " 1   perfume_name  51212 non-null  object\n",
      " 2   image64       50569 non-null  object\n",
      " 3   description   50569 non-null  object\n",
      "dtypes: int64(1), object(3)\n",
      "memory usage: 1.6+ MB\n"
     ]
    }
   ],
   "source": [
    "data.info()"
   ]
  },
  {
   "cell_type": "code",
   "execution_count": 7,
   "metadata": {},
   "outputs": [],
   "source": [
    "data.to_csv('pp_pic_des_t64_header.csv',index = False)"
   ]
  },
  {
   "cell_type": "code",
   "execution_count": 8,
   "metadata": {},
   "outputs": [
    {
     "name": "stdout",
     "output_type": "stream",
     "text": [
      "<class 'pandas.core.frame.DataFrame'>\n",
      "RangeIndex: 51212 entries, 0 to 51211\n",
      "Data columns (total 4 columns):\n",
      " #   Column        Non-Null Count  Dtype \n",
      "---  ------        --------------  ----- \n",
      " 0   perfume_id    51212 non-null  int64 \n",
      " 1   perfume_name  51212 non-null  object\n",
      " 2   image64       50569 non-null  object\n",
      " 3   description   50569 non-null  object\n",
      "dtypes: int64(1), object(3)\n",
      "memory usage: 1.6+ MB\n"
     ]
    }
   ],
   "source": [
    "data2 = pd.read_csv('pp_pic_des_t64_header.csv',)\n",
    "data2.info()"
   ]
  },
  {
   "cell_type": "code",
   "execution_count": 10,
   "metadata": {},
   "outputs": [
    {
     "name": "stdout",
     "output_type": "stream",
     "text": [
      "<class 'pandas.core.frame.DataFrame'>\n",
      "RangeIndex: 51212 entries, 0 to 51211\n",
      "Data columns (total 4 columns):\n",
      " #   Column        Non-Null Count  Dtype \n",
      "---  ------        --------------  ----- \n",
      " 0   perfume_id    51212 non-null  int64 \n",
      " 1   perfume_name  51212 non-null  object\n",
      " 2   image         47803 non-null  object\n",
      " 3   description   34687 non-null  object\n",
      "dtypes: int64(1), object(3)\n",
      "memory usage: 1.6+ MB\n"
     ]
    }
   ],
   "source": [
    "data.info()"
   ]
  },
  {
   "cell_type": "code",
   "execution_count": 11,
   "metadata": {},
   "outputs": [],
   "source": [
    "# 找到所有没有爬到pic的行，整成一个表，对这个表中的所有重新爬\n",
    "data_pic = data[['perfume_id','perfume_name','image']]\n",
    "nanpic = data_pic[data_pic.isnull().T.any()]"
   ]
  },
  {
   "cell_type": "code",
   "execution_count": 12,
   "metadata": {},
   "outputs": [
    {
     "name": "stdout",
     "output_type": "stream",
     "text": [
      "<class 'pandas.core.frame.DataFrame'>\n",
      "Int64Index: 3409 entries, 58 to 51191\n",
      "Data columns (total 3 columns):\n",
      " #   Column        Non-Null Count  Dtype \n",
      "---  ------        --------------  ----- \n",
      " 0   perfume_id    3409 non-null   int64 \n",
      " 1   perfume_name  3409 non-null   object\n",
      " 2   image         0 non-null      object\n",
      "dtypes: int64(1), object(2)\n",
      "memory usage: 106.5+ KB\n"
     ]
    }
   ],
   "source": [
    "nanpic.info()"
   ]
  },
  {
   "cell_type": "code",
   "execution_count": 27,
   "metadata": {},
   "outputs": [
    {
     "name": "stderr",
     "output_type": "stream",
     "text": [
      "/Users/woody/opt/anaconda3/lib/python3.7/site-packages/pandas/core/indexing.py:966: SettingWithCopyWarning: \n",
      "A value is trying to be set on a copy of a slice from a DataFrame.\n",
      "Try using .loc[row_indexer,col_indexer] = value instead\n",
      "\n",
      "See the caveats in the documentation: https://pandas.pydata.org/pandas-docs/stable/user_guide/indexing.html#returning-a-view-versus-a-copy\n",
      "  self.obj[item] = s\n"
     ]
    },
    {
     "data": {
      "text/html": [
       "<div>\n",
       "<style scoped>\n",
       "    .dataframe tbody tr th:only-of-type {\n",
       "        vertical-align: middle;\n",
       "    }\n",
       "\n",
       "    .dataframe tbody tr th {\n",
       "        vertical-align: top;\n",
       "    }\n",
       "\n",
       "    .dataframe thead th {\n",
       "        text-align: right;\n",
       "    }\n",
       "</style>\n",
       "<table border=\"1\" class=\"dataframe\">\n",
       "  <thead>\n",
       "    <tr style=\"text-align: right;\">\n",
       "      <th></th>\n",
       "      <th>perfume_id</th>\n",
       "      <th>perfume_name</th>\n",
       "      <th>image</th>\n",
       "    </tr>\n",
       "  </thead>\n",
       "  <tbody>\n",
       "    <tr>\n",
       "      <th>58</th>\n",
       "      <td>58</td>\n",
       "      <td>Peau d'Ailleurs Starck</td>\n",
       "      <td>https://img.xssdcdn.com/perfume/278110.jpg</td>\n",
       "    </tr>\n",
       "    <tr>\n",
       "      <th>121</th>\n",
       "      <td>121</td>\n",
       "      <td>Faerie Queen Alkemia Perfumes</td>\n",
       "      <td>NaN</td>\n",
       "    </tr>\n",
       "    <tr>\n",
       "      <th>123</th>\n",
       "      <td>123</td>\n",
       "      <td>Juwayriya Abdul Karim Al Faransi</td>\n",
       "      <td>NaN</td>\n",
       "    </tr>\n",
       "    <tr>\n",
       "      <th>149</th>\n",
       "      <td>149</td>\n",
       "      <td>Blousy Miller Harris</td>\n",
       "      <td>NaN</td>\n",
       "    </tr>\n",
       "    <tr>\n",
       "      <th>150</th>\n",
       "      <td>150</td>\n",
       "      <td>Si Fleuri Passion Lomani</td>\n",
       "      <td>NaN</td>\n",
       "    </tr>\n",
       "    <tr>\n",
       "      <th>...</th>\n",
       "      <td>...</td>\n",
       "      <td>...</td>\n",
       "      <td>...</td>\n",
       "    </tr>\n",
       "    <tr>\n",
       "      <th>29398</th>\n",
       "      <td>29397</td>\n",
       "      <td>Paris - Dakar Rain Parfums Codibel</td>\n",
       "      <td>NaN</td>\n",
       "    </tr>\n",
       "    <tr>\n",
       "      <th>29399</th>\n",
       "      <td>29398</td>\n",
       "      <td>Intoxication d'Amour (Vintage) D'Orsay</td>\n",
       "      <td>NaN</td>\n",
       "    </tr>\n",
       "    <tr>\n",
       "      <th>29400</th>\n",
       "      <td>29399</td>\n",
       "      <td>Shiny Day Natural Scents</td>\n",
       "      <td>NaN</td>\n",
       "    </tr>\n",
       "    <tr>\n",
       "      <th>29422</th>\n",
       "      <td>29422</td>\n",
       "      <td>Narcisse Dark Art Deco Perfumes</td>\n",
       "      <td>NaN</td>\n",
       "    </tr>\n",
       "    <tr>\n",
       "      <th>29423</th>\n",
       "      <td>29423</td>\n",
       "      <td>L'Eau D'Ambre Extrême L'Artisan Parfumeur</td>\n",
       "      <td>NaN</td>\n",
       "    </tr>\n",
       "  </tbody>\n",
       "</table>\n",
       "<p>2296 rows × 3 columns</p>\n",
       "</div>"
      ],
      "text/plain": [
       "       perfume_id                               perfume_name  \\\n",
       "58             58                     Peau d'Ailleurs Starck   \n",
       "121           121              Faerie Queen Alkemia Perfumes   \n",
       "123           123           Juwayriya Abdul Karim Al Faransi   \n",
       "149           149                       Blousy Miller Harris   \n",
       "150           150                   Si Fleuri Passion Lomani   \n",
       "...           ...                                        ...   \n",
       "29398       29397         Paris - Dakar Rain Parfums Codibel   \n",
       "29399       29398     Intoxication d'Amour (Vintage) D'Orsay   \n",
       "29400       29399                   Shiny Day Natural Scents   \n",
       "29422       29422            Narcisse Dark Art Deco Perfumes   \n",
       "29423       29423  L'Eau D'Ambre Extrême L'Artisan Parfumeur   \n",
       "\n",
       "                                            image  \n",
       "58     https://img.xssdcdn.com/perfume/278110.jpg  \n",
       "121                                           NaN  \n",
       "123                                           NaN  \n",
       "149                                           NaN  \n",
       "150                                           NaN  \n",
       "...                                           ...  \n",
       "29398                                         NaN  \n",
       "29399                                         NaN  \n",
       "29400                                         NaN  \n",
       "29422                                         NaN  \n",
       "29423                                         NaN  \n",
       "\n",
       "[2296 rows x 3 columns]"
      ]
     },
     "execution_count": 27,
     "metadata": {},
     "output_type": "execute_result"
    }
   ],
   "source": [
    "for row, index in nanpic.iterrows():\n",
    "    p_id = row[0]\n",
    "    name = row[1]\n",
    "    list_r = []\n",
    "    list_r.append(p_id)\n",
    "    list_r.append(name)\n",
    "    try:\n",
    "        (pictUrl, descInfo) = collect(name)\n",
    "        acq_pic(pictUrl, p_id)\n",
    "        if (descInfo == None):\n",
    "            descInfo = 'NULL'\n",
    "        else:\n",
    "            descInfo = translate(descInfo)\n",
    "        list_r.append(pictUrl)\n",
    "        list_r.append(descInfo)\n",
    "        f1 = open('./pp_pic_des_22.csv', 'a+', encoding='utf-8', newline='')\n",
    "        writer1 = csv.writer(f1)\n",
    "        writer1.writerow(list_r)\n",
    "        f1.close()\n",
    "\n",
    "    except Exception as e:\n",
    "        # print(e)\n",
    "        a = [p_id, name, 'NULL', 'NULL']\n",
    "        f1 = open('./pp_pic_des_22.csv', 'a+', encoding='utf-8', newline='')\n",
    "        writer1 = csv.writer(f1)\n",
    "        writer1.writerow(a)\n",
    "        f1.close()\n",
    "        print(name, '----- no this data！---', index)\n",
    "        continue\n",
    "    print(name, '----- Success！---', index)\n",
    "    time.sleep(0.5)\n",
    "\n",
    "#data.loc[58,'image'] = 'https://img.xssdcdn.com/perfume/278110.jpg'\n",
    "#nanpic"
   ]
  },
  {
   "cell_type": "code",
   "execution_count": 6,
   "metadata": {},
   "outputs": [],
   "source": [
    "import requests\n",
    "\n",
    "\n",
    "def collect(word):\n",
    "    url = f'https://www.nosetime.com/search.php?op=ajax&type=all&word={word}'\n",
    "    headers = {\n",
    "        'User-Agent': 'Mozilla/5.0(WindowsNT10.0;Win64;x64)AppleWebKit/537.36(KHTML,likeGecko)Chrome/91.0.4472.106Safari/537.36'\n",
    "    }\n",
    "    res = requests.get(url=url, headers=headers).json()\n",
    "    try:\n",
    "        for li in res['item']['data']:\n",
    "            itemId = li['id']\n",
    "            pict = f'https://img.xssdcdn.com/perfume/{itemId}.jpg'\n",
    "            desc = li['desc']\n",
    "            break\n",
    "    except Exception as e:\n",
    "        print(str(e))\n",
    "        (pict, desc) = ('', '')\n",
    "    finally:\n",
    "        return pict, desc\n"
   ]
  },
  {
   "cell_type": "code",
   "execution_count": 7,
   "metadata": {},
   "outputs": [
    {
     "name": "stdout",
     "output_type": "stream",
     "text": [
      "https://img.xssdcdn.com/perfume/931281.jpg\n",
      "\n"
     ]
    }
   ],
   "source": [
    "key = \"Kimoji Cherry KKW Fragrance\"\n",
    "(pictUrl, descInfo) = collect(key)\n",
    "print(pictUrl)\n",
    "print(descInfo)\n"
   ]
  },
  {
   "cell_type": "code",
   "execution_count": 16,
   "metadata": {},
   "outputs": [],
   "source": [
    "#image转base64\n",
    "import base64\n",
    "with open(\"./tupian/1.png\",\"rb\") as f:#转为二进制格式\n",
    "    base64_data = base64.b64encode(f.read())#使用base64进行加密\n",
    "    #print(base64_data)\n",
    "    #file=open('1.txt','wt')#写成文本格式\n",
    "    #file.write(base64_data)\n",
    "    #file.close()\n",
    "    "
   ]
  },
  {
   "cell_type": "code",
   "execution_count": 17,
   "metadata": {},
   "outputs": [
    {
     "data": {
      "text/plain": [
       "15580"
      ]
     },
     "execution_count": 17,
     "metadata": {},
     "output_type": "execute_result"
    }
   ],
   "source": [
    "len(base64_data)"
   ]
  },
  {
   "cell_type": "code",
   "execution_count": null,
   "metadata": {},
   "outputs": [],
   "source": []
  },
  {
   "cell_type": "code",
   "execution_count": null,
   "metadata": {},
   "outputs": [],
   "source": []
  },
  {
   "cell_type": "code",
   "execution_count": 18,
   "metadata": {},
   "outputs": [],
   "source": [
    "#样集1\n",
    "left = pd.DataFrame({'key': ['foo', 'bar1'], 'val': [1, 2]})\n",
    "right = pd.DataFrame({'key': ['foo', 'bar'], 'val': [4, 5]})\n",
    "right2 = pd.DataFrame({'key': ['bar1', 'foo'], 'val': [9, 10]})"
   ]
  },
  {
   "cell_type": "code",
   "execution_count": 19,
   "metadata": {},
   "outputs": [
    {
     "data": {
      "text/html": [
       "<div>\n",
       "<style scoped>\n",
       "    .dataframe tbody tr th:only-of-type {\n",
       "        vertical-align: middle;\n",
       "    }\n",
       "\n",
       "    .dataframe tbody tr th {\n",
       "        vertical-align: top;\n",
       "    }\n",
       "\n",
       "    .dataframe thead th {\n",
       "        text-align: right;\n",
       "    }\n",
       "</style>\n",
       "<table border=\"1\" class=\"dataframe\">\n",
       "  <thead>\n",
       "    <tr style=\"text-align: right;\">\n",
       "      <th></th>\n",
       "      <th>key</th>\n",
       "      <th>val</th>\n",
       "    </tr>\n",
       "  </thead>\n",
       "  <tbody>\n",
       "    <tr>\n",
       "      <th>0</th>\n",
       "      <td>foo</td>\n",
       "      <td>1</td>\n",
       "    </tr>\n",
       "    <tr>\n",
       "      <th>1</th>\n",
       "      <td>bar1</td>\n",
       "      <td>2</td>\n",
       "    </tr>\n",
       "  </tbody>\n",
       "</table>\n",
       "</div>"
      ],
      "text/plain": [
       "    key  val\n",
       "0   foo    1\n",
       "1  bar1    2"
      ]
     },
     "execution_count": 19,
     "metadata": {},
     "output_type": "execute_result"
    }
   ],
   "source": [
    "left"
   ]
  },
  {
   "cell_type": "code",
   "execution_count": 20,
   "metadata": {},
   "outputs": [
    {
     "data": {
      "text/html": [
       "<div>\n",
       "<style scoped>\n",
       "    .dataframe tbody tr th:only-of-type {\n",
       "        vertical-align: middle;\n",
       "    }\n",
       "\n",
       "    .dataframe tbody tr th {\n",
       "        vertical-align: top;\n",
       "    }\n",
       "\n",
       "    .dataframe thead th {\n",
       "        text-align: right;\n",
       "    }\n",
       "</style>\n",
       "<table border=\"1\" class=\"dataframe\">\n",
       "  <thead>\n",
       "    <tr style=\"text-align: right;\">\n",
       "      <th></th>\n",
       "      <th>key</th>\n",
       "      <th>val</th>\n",
       "    </tr>\n",
       "  </thead>\n",
       "  <tbody>\n",
       "    <tr>\n",
       "      <th>0</th>\n",
       "      <td>foo</td>\n",
       "      <td>4</td>\n",
       "    </tr>\n",
       "    <tr>\n",
       "      <th>1</th>\n",
       "      <td>bar</td>\n",
       "      <td>5</td>\n",
       "    </tr>\n",
       "  </tbody>\n",
       "</table>\n",
       "</div>"
      ],
      "text/plain": [
       "   key  val\n",
       "0  foo    4\n",
       "1  bar    5"
      ]
     },
     "execution_count": 20,
     "metadata": {},
     "output_type": "execute_result"
    }
   ],
   "source": [
    "right"
   ]
  },
  {
   "cell_type": "code",
   "execution_count": 21,
   "metadata": {},
   "outputs": [
    {
     "data": {
      "text/html": [
       "<div>\n",
       "<style scoped>\n",
       "    .dataframe tbody tr th:only-of-type {\n",
       "        vertical-align: middle;\n",
       "    }\n",
       "\n",
       "    .dataframe tbody tr th {\n",
       "        vertical-align: top;\n",
       "    }\n",
       "\n",
       "    .dataframe thead th {\n",
       "        text-align: right;\n",
       "    }\n",
       "</style>\n",
       "<table border=\"1\" class=\"dataframe\">\n",
       "  <thead>\n",
       "    <tr style=\"text-align: right;\">\n",
       "      <th></th>\n",
       "      <th>key</th>\n",
       "      <th>val</th>\n",
       "    </tr>\n",
       "  </thead>\n",
       "  <tbody>\n",
       "    <tr>\n",
       "      <th>0</th>\n",
       "      <td>bar1</td>\n",
       "      <td>9</td>\n",
       "    </tr>\n",
       "    <tr>\n",
       "      <th>1</th>\n",
       "      <td>foo</td>\n",
       "      <td>10</td>\n",
       "    </tr>\n",
       "  </tbody>\n",
       "</table>\n",
       "</div>"
      ],
      "text/plain": [
       "    key  val\n",
       "0  bar1    9\n",
       "1   foo   10"
      ]
     },
     "execution_count": 21,
     "metadata": {},
     "output_type": "execute_result"
    }
   ],
   "source": [
    "right2"
   ]
  },
  {
   "cell_type": "code",
   "execution_count": 22,
   "metadata": {},
   "outputs": [
    {
     "name": "stdout",
     "output_type": "stream",
     "text": [
      "  key_x  val_x key_y  val_y\n",
      "0   foo      1   foo      4\n",
      "1  bar1      2   bar      5\n"
     ]
    }
   ],
   "source": [
    "print(pd.merge(left, right, left_index=True,\n",
    "               right_index=True, how='left'))"
   ]
  },
  {
   "cell_type": "code",
   "execution_count": 23,
   "metadata": {},
   "outputs": [
    {
     "name": "stdout",
     "output_type": "stream",
     "text": [
      "   key  val_x  val_y\n",
      "0  foo      1      4\n"
     ]
    }
   ],
   "source": [
    "print(pd.merge(left, right,on='key'))"
   ]
  },
  {
   "cell_type": "code",
   "execution_count": 9,
   "metadata": {},
   "outputs": [],
   "source": [
    "import pandas as pd\n",
    "import numpy as np\n",
    "\n",
    "data1 = pd.read_csv('perfume_table.csv')\n",
    "data2 = pd.read_csv('pp_pic_des33_header.csv',)"
   ]
  },
  {
   "cell_type": "code",
   "execution_count": 10,
   "metadata": {},
   "outputs": [
    {
     "name": "stdout",
     "output_type": "stream",
     "text": [
      "<class 'pandas.core.frame.DataFrame'>\n",
      "RangeIndex: 51212 entries, 0 to 51211\n",
      "Data columns (total 7 columns):\n",
      " #   Column        Non-Null Count  Dtype  \n",
      "---  ------        --------------  -----  \n",
      " 0   perfume_id    51212 non-null  int64  \n",
      " 1   perfume_name  51212 non-null  object \n",
      " 2   brand         51212 non-null  object \n",
      " 3   date          51212 non-null  int64  \n",
      " 4   image         0 non-null      float64\n",
      " 5   description   0 non-null      float64\n",
      " 6   target        51212 non-null  int64  \n",
      "dtypes: float64(2), int64(3), object(2)\n",
      "memory usage: 2.7+ MB\n"
     ]
    }
   ],
   "source": [
    "data1.info()"
   ]
  },
  {
   "cell_type": "code",
   "execution_count": 11,
   "metadata": {},
   "outputs": [
    {
     "name": "stdout",
     "output_type": "stream",
     "text": [
      "<class 'pandas.core.frame.DataFrame'>\n",
      "RangeIndex: 51212 entries, 0 to 51211\n",
      "Data columns (total 4 columns):\n",
      " #   Column        Non-Null Count  Dtype \n",
      "---  ------        --------------  ----- \n",
      " 0   perfume_id    51212 non-null  int64 \n",
      " 1   perfume_name  51212 non-null  object\n",
      " 2   image         50569 non-null  object\n",
      " 3   description   35140 non-null  object\n",
      "dtypes: int64(1), object(3)\n",
      "memory usage: 1.6+ MB\n"
     ]
    }
   ],
   "source": [
    "data2.info()"
   ]
  },
  {
   "cell_type": "code",
   "execution_count": 20,
   "metadata": {},
   "outputs": [
    {
     "name": "stdout",
     "output_type": "stream",
     "text": [
      "<class 'pandas.core.frame.DataFrame'>\n",
      "RangeIndex: 51212 entries, 0 to 51211\n",
      "Data columns (total 5 columns):\n",
      " #   Column        Non-Null Count  Dtype \n",
      "---  ------        --------------  ----- \n",
      " 0   perfume_id    51212 non-null  int64 \n",
      " 1   perfume_name  51212 non-null  object\n",
      " 2   brand         51212 non-null  object\n",
      " 3   date          51212 non-null  int64 \n",
      " 4   target        51212 non-null  int64 \n",
      "dtypes: int64(3), object(2)\n",
      "memory usage: 2.0+ MB\n"
     ]
    }
   ],
   "source": [
    "data3 = data1.loc[:,['perfume_id','perfume_name', 'brand', 'date', 'target']]\n",
    "data3.info()"
   ]
  },
  {
   "cell_type": "code",
   "execution_count": 23,
   "metadata": {},
   "outputs": [
    {
     "name": "stdout",
     "output_type": "stream",
     "text": [
      "<class 'pandas.core.frame.DataFrame'>\n",
      "RangeIndex: 51212 entries, 0 to 51211\n",
      "Data columns (total 3 columns):\n",
      " #   Column       Non-Null Count  Dtype \n",
      "---  ------       --------------  ----- \n",
      " 0   perfume_id   51212 non-null  int64 \n",
      " 1   image        50569 non-null  object\n",
      " 2   description  35140 non-null  object\n",
      "dtypes: int64(1), object(2)\n",
      "memory usage: 1.2+ MB\n"
     ]
    }
   ],
   "source": [
    "data4 = data2.loc[:,['perfume_id','image','description']]\n",
    "data4.info()"
   ]
  },
  {
   "cell_type": "code",
   "execution_count": 25,
   "metadata": {},
   "outputs": [],
   "source": [
    "data5 = pd.merge(data3,data4, on='perfume_id', how='left')"
   ]
  },
  {
   "cell_type": "code",
   "execution_count": 26,
   "metadata": {},
   "outputs": [
    {
     "name": "stdout",
     "output_type": "stream",
     "text": [
      "<class 'pandas.core.frame.DataFrame'>\n",
      "Int64Index: 51212 entries, 0 to 51211\n",
      "Data columns (total 7 columns):\n",
      " #   Column        Non-Null Count  Dtype \n",
      "---  ------        --------------  ----- \n",
      " 0   perfume_id    51212 non-null  int64 \n",
      " 1   perfume_name  51212 non-null  object\n",
      " 2   brand         51212 non-null  object\n",
      " 3   date          51212 non-null  int64 \n",
      " 4   target        51212 non-null  int64 \n",
      " 5   image         50569 non-null  object\n",
      " 6   description   35140 non-null  object\n",
      "dtypes: int64(3), object(4)\n",
      "memory usage: 3.1+ MB\n"
     ]
    }
   ],
   "source": [
    "data5.info()"
   ]
  },
  {
   "cell_type": "code",
   "execution_count": 29,
   "metadata": {},
   "outputs": [
    {
     "name": "stdout",
     "output_type": "stream",
     "text": [
      "<class 'pandas.core.frame.DataFrame'>\n",
      "Int64Index: 51212 entries, 0 to 51211\n",
      "Data columns (total 7 columns):\n",
      " #   Column        Non-Null Count  Dtype \n",
      "---  ------        --------------  ----- \n",
      " 0   perfume_id    51212 non-null  int64 \n",
      " 1   perfume_name  51212 non-null  object\n",
      " 2   brand         51212 non-null  object\n",
      " 3   date          51212 non-null  int64 \n",
      " 4   image         50569 non-null  object\n",
      " 5   description   35140 non-null  object\n",
      " 6   target        51212 non-null  int64 \n",
      "dtypes: int64(3), object(4)\n",
      "memory usage: 3.1+ MB\n"
     ]
    }
   ],
   "source": [
    "data5=data5[['perfume_id','perfume_name','brand','date',\n",
    "             'image','description','target']]\n",
    "\n",
    "\n",
    "data5.info()\n"
   ]
  },
  {
   "cell_type": "code",
   "execution_count": 30,
   "metadata": {},
   "outputs": [],
   "source": [
    "data5.to_csv('nnpp_total.csv',index = False)"
   ]
  },
  {
   "cell_type": "code",
   "execution_count": 32,
   "metadata": {},
   "outputs": [
    {
     "name": "stdout",
     "output_type": "stream",
     "text": [
      "<class 'pandas.core.frame.DataFrame'>\n",
      "Int64Index: 51212 entries, 0 to 51211\n",
      "Data columns (total 7 columns):\n",
      " #   Column        Non-Null Count  Dtype \n",
      "---  ------        --------------  ----- \n",
      " 0   perfume_id    51212 non-null  int64 \n",
      " 1   perfume_name  51212 non-null  object\n",
      " 2   brand         51212 non-null  object\n",
      " 3   date          51212 non-null  int64 \n",
      " 4   image         51212 non-null  object\n",
      " 5   description   51212 non-null  object\n",
      " 6   target        51212 non-null  int64 \n",
      "dtypes: int64(3), object(4)\n",
      "memory usage: 3.1+ MB\n"
     ]
    }
   ],
   "source": [
    "data6 = data5.where(data5.notnull(),\"NULL\")\n",
    "data6.info()"
   ]
  },
  {
   "cell_type": "code",
   "execution_count": 33,
   "metadata": {},
   "outputs": [],
   "source": [
    "data6.to_csv('nnpp_total22.csv',index = False)"
   ]
  },
  {
   "cell_type": "code",
   "execution_count": null,
   "metadata": {},
   "outputs": [],
   "source": []
  },
  {
   "cell_type": "code",
   "execution_count": null,
   "metadata": {},
   "outputs": [],
   "source": []
  },
  {
   "cell_type": "code",
   "execution_count": null,
   "metadata": {},
   "outputs": [],
   "source": []
  },
  {
   "cell_type": "code",
   "execution_count": 1,
   "metadata": {},
   "outputs": [],
   "source": [
    "import pandas as pd\n",
    "import numpy as np"
   ]
  },
  {
   "cell_type": "code",
   "execution_count": 2,
   "metadata": {},
   "outputs": [
    {
     "data": {
      "text/html": [
       "<div>\n",
       "<style scoped>\n",
       "    .dataframe tbody tr th:only-of-type {\n",
       "        vertical-align: middle;\n",
       "    }\n",
       "\n",
       "    .dataframe tbody tr th {\n",
       "        vertical-align: top;\n",
       "    }\n",
       "\n",
       "    .dataframe thead th {\n",
       "        text-align: right;\n",
       "    }\n",
       "</style>\n",
       "<table border=\"1\" class=\"dataframe\">\n",
       "  <thead>\n",
       "    <tr style=\"text-align: right;\">\n",
       "      <th></th>\n",
       "      <th>perfume_id</th>\n",
       "      <th>perfume_name</th>\n",
       "      <th>brand</th>\n",
       "      <th>date</th>\n",
       "      <th>image</th>\n",
       "      <th>description</th>\n",
       "      <th>target</th>\n",
       "    </tr>\n",
       "  </thead>\n",
       "  <tbody>\n",
       "    <tr>\n",
       "      <th>0</th>\n",
       "      <td>0</td>\n",
       "      <td>Aamal The Spirit of Dubai</td>\n",
       "      <td>The-Spirit-of-Dubai</td>\n",
       "      <td>2017</td>\n",
       "      <td>https://img.xssdcdn.com/perfume/725418.jpg</td>\n",
       "      <td>NaN</td>\n",
       "      <td>2</td>\n",
       "    </tr>\n",
       "    <tr>\n",
       "      <th>1</th>\n",
       "      <td>1</td>\n",
       "      <td>Aatifa Ajmal</td>\n",
       "      <td>Ajmal</td>\n",
       "      <td>2014</td>\n",
       "      <td>https://img.xssdcdn.com/perfume/590365.jpg</td>\n",
       "      <td>Ajmal is a unique combination of traditional w...</td>\n",
       "      <td>2</td>\n",
       "    </tr>\n",
       "    <tr>\n",
       "      <th>2</th>\n",
       "      <td>2</td>\n",
       "      <td>AA Al-Jazeera Perfumes</td>\n",
       "      <td>Al-Jazeera-Perfumes</td>\n",
       "      <td>0</td>\n",
       "      <td>https://img.xssdcdn.com/perfume/311941.jpg</td>\n",
       "      <td>Al-Jazeera Perfumes has launched 23 fragrances.</td>\n",
       "      <td>2</td>\n",
       "    </tr>\n",
       "    <tr>\n",
       "      <th>3</th>\n",
       "      <td>3</td>\n",
       "      <td>aarewasser Art of Scent - Swiss Perfumes</td>\n",
       "      <td>Art-of-Scent-Swiss-Perfumes</td>\n",
       "      <td>2010</td>\n",
       "      <td>https://img.xssdcdn.com/perfume/485888.jpg</td>\n",
       "      <td>NaN</td>\n",
       "      <td>2</td>\n",
       "    </tr>\n",
       "    <tr>\n",
       "      <th>4</th>\n",
       "      <td>4</td>\n",
       "      <td>Aaliyah Hamidi Oud &amp; Perfumes</td>\n",
       "      <td>Hamidi-Oud-Perfumes</td>\n",
       "      <td>0</td>\n",
       "      <td>https://img.xssdcdn.com/perfume/385852.jpg</td>\n",
       "      <td>Hamidi U M (Hamidi Oud &amp; Perfumes) is a new mi...</td>\n",
       "      <td>2</td>\n",
       "    </tr>\n",
       "  </tbody>\n",
       "</table>\n",
       "</div>"
      ],
      "text/plain": [
       "   perfume_id                              perfume_name  \\\n",
       "0           0                 Aamal The Spirit of Dubai   \n",
       "1           1                              Aatifa Ajmal   \n",
       "2           2                    AA Al-Jazeera Perfumes   \n",
       "3           3  aarewasser Art of Scent - Swiss Perfumes   \n",
       "4           4             Aaliyah Hamidi Oud & Perfumes   \n",
       "\n",
       "                         brand  date  \\\n",
       "0          The-Spirit-of-Dubai  2017   \n",
       "1                        Ajmal  2014   \n",
       "2          Al-Jazeera-Perfumes     0   \n",
       "3  Art-of-Scent-Swiss-Perfumes  2010   \n",
       "4          Hamidi-Oud-Perfumes     0   \n",
       "\n",
       "                                        image  \\\n",
       "0  https://img.xssdcdn.com/perfume/725418.jpg   \n",
       "1  https://img.xssdcdn.com/perfume/590365.jpg   \n",
       "2  https://img.xssdcdn.com/perfume/311941.jpg   \n",
       "3  https://img.xssdcdn.com/perfume/485888.jpg   \n",
       "4  https://img.xssdcdn.com/perfume/385852.jpg   \n",
       "\n",
       "                                         description  target  \n",
       "0                                                NaN       2  \n",
       "1  Ajmal is a unique combination of traditional w...       2  \n",
       "2    Al-Jazeera Perfumes has launched 23 fragrances.       2  \n",
       "3                                                NaN       2  \n",
       "4  Hamidi U M (Hamidi Oud & Perfumes) is a new mi...       2  "
      ]
     },
     "execution_count": 2,
     "metadata": {},
     "output_type": "execute_result"
    }
   ],
   "source": [
    "data1 = pd.read_csv('nnpp_total22.csv')\n",
    "data1.head()"
   ]
  },
  {
   "cell_type": "code",
   "execution_count": 4,
   "metadata": {},
   "outputs": [],
   "source": [
    "row = data1.loc[0,]"
   ]
  },
  {
   "cell_type": "code",
   "execution_count": 5,
   "metadata": {},
   "outputs": [
    {
     "data": {
      "text/plain": [
       "perfume_id                                               0\n",
       "perfume_name                     Aamal The Spirit of Dubai\n",
       "brand                                  The-Spirit-of-Dubai\n",
       "date                                                  2017\n",
       "image           https://img.xssdcdn.com/perfume/725418.jpg\n",
       "description                                            NaN\n",
       "target                                                   2\n",
       "Name: 0, dtype: object"
      ]
     },
     "execution_count": 5,
     "metadata": {},
     "output_type": "execute_result"
    }
   ],
   "source": [
    "row"
   ]
  },
  {
   "cell_type": "code",
   "execution_count": 3,
   "metadata": {},
   "outputs": [],
   "source": [
    "def checknan(item):\n",
    "    if item == ''or pd.isna(item):\n",
    "        result = \"NULL,\"\n",
    "    else:\n",
    "        result = \"'\"+checkquot(item)+\"',\"\n",
    "    return result\n",
    "\n",
    "\n",
    "# 检查引号的转义\n",
    "def checkquot(item):\n",
    "    result = item.replace(\"'\",\"''\")\n",
    "    return result"
   ]
  },
  {
   "cell_type": "code",
   "execution_count": 14,
   "metadata": {},
   "outputs": [],
   "source": [
    "row[2] = \"The-Spirit-'of-Dubai\"\n",
    "\n",
    "text = \"insert into perfume (perfume_id, perfume_name, brand, date,\"\\\n",
    "\"image, description, target) values(\" + str(row[0]) +\",'\"+checkquot(row[1])+\"','\"+\\\n",
    "checkquot(row[2])+\"',\"+str(row[3])+','+checknan(row[4])+ checknan(row[5])+\\\n",
    "str(row[6])+');'+'\\n'"
   ]
  },
  {
   "cell_type": "code",
   "execution_count": 15,
   "metadata": {},
   "outputs": [
    {
     "data": {
      "text/plain": [
       "\"insert into perfume (perfume_id, perfume_name, brand, date,image, description, target) values(0,'Aamal The Spirit of Dubai','The-Spirit-'''of-Dubai',2017,'https://img.xssdcdn.com/perfume/725418.jpg',NULL,2);\\n\""
      ]
     },
     "execution_count": 15,
     "metadata": {},
     "output_type": "execute_result"
    }
   ],
   "source": [
    "text"
   ]
  },
  {
   "cell_type": "code",
   "execution_count": 5,
   "metadata": {},
   "outputs": [],
   "source": [
    "import re\n",
    "import math\n",
    "import sys\n",
    "\n",
    "\n",
    "count = 0\n",
    "file = open('3-total_perfume/{}k-{}k.txt'.format(count,count+3), mode = 'w')\n",
    "\n",
    "for index, row in data1.iterrows():\n",
    "    \n",
    "    text = \"insert into perfume (perfume_id, perfume_name, brand, date,\"\\\n",
    "\" image, description, target) values(\" + str(row[0]) +\",'\"+checkquot(row[1])+\"','\"+\\\n",
    "checkquot(row[2])+\"',\"+str(row[3])+','+checknan(row[4])+ checknan(row[5])+\\\n",
    "str(row[6])+');'+'\\n'\n",
    "    \n",
    "    file.write(text)\n",
    "    \n",
    "    if index >=3000 and index %3000==0:\n",
    "        file.close()\n",
    "        count+=3\n",
    "        \n",
    "        file = open('3-total_perfume/{}k-{}k.txt'.format(count,count+3), mode = 'w')\n",
    "        \n",
    "    \n",
    "file.close()"
   ]
  },
  {
   "cell_type": "code",
   "execution_count": null,
   "metadata": {},
   "outputs": [],
   "source": []
  }
 ],
 "metadata": {
  "kernelspec": {
   "display_name": "Python 3",
   "language": "python",
   "name": "python3"
  },
  "language_info": {
   "codemirror_mode": {
    "name": "ipython",
    "version": 3
   },
   "file_extension": ".py",
   "mimetype": "text/x-python",
   "name": "python",
   "nbconvert_exporter": "python",
   "pygments_lexer": "ipython3",
   "version": "3.7.6"
  }
 },
 "nbformat": 4,
 "nbformat_minor": 4
}
